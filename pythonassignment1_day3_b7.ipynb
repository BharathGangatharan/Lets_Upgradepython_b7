{
  "nbformat": 4,
  "nbformat_minor": 0,
  "metadata": {
    "colab": {
      "name": "pythonassignment1_day3_b7.ipynb",
      "provenance": [],
      "authorship_tag": "ABX9TyONmvLQVVbSBCazHHGggyCD",
      "include_colab_link": true
    },
    "kernelspec": {
      "name": "python3",
      "display_name": "Python 3"
    }
  },
  "cells": [
    {
      "cell_type": "markdown",
      "metadata": {
        "id": "view-in-github",
        "colab_type": "text"
      },
      "source": [
        "<a href=\"https://colab.research.google.com/github/BharathGangatharan/Lets_Upgradepython_b7/blob/master/pythonassignment1_day3_b7.ipynb\" target=\"_parent\"><img src=\"https://colab.research.google.com/assets/colab-badge.svg\" alt=\"Open In Colab\"/></a>"
      ]
    },
    {
      "cell_type": "markdown",
      "metadata": {
        "id": "3EbdqVUC97Is",
        "colab_type": "text"
      },
      "source": [
        ""
      ]
    },
    {
      "cell_type": "code",
      "metadata": {
        "id": "rU6GDPse71uG",
        "colab_type": "code",
        "colab": {
          "base_uri": "https://localhost:8080/",
          "height": 51
        },
        "outputId": "73031275-b094-4585-e8ac-a8d5bcad5fc3"
      },
      "source": [
        "#if altitude is less than 1000\n",
        "a=int(input())\n",
        "if(a<1000):\n",
        "  print(\"Safe to land\")\n",
        "elif(a>1000 and a<5000):\n",
        "  print(\"Bring down to 1000\")\n",
        "else:\n",
        "  print(\"Turn Around\")"
      ],
      "execution_count": 8,
      "outputs": [
        {
          "output_type": "stream",
          "text": [
            "500\n",
            "Safe to land\n"
          ],
          "name": "stdout"
        }
      ]
    },
    {
      "cell_type": "code",
      "metadata": {
        "id": "S_8p7E3x75Da",
        "colab_type": "code",
        "colab": {
          "base_uri": "https://localhost:8080/",
          "height": 51
        },
        "outputId": "9e5a4696-ff48-45eb-ff00-d48fb87ddc5c"
      },
      "source": [
        "3#if altitude is greater than 1000 and less than 5000\n",
        "a=int(input())\n",
        "if(a<1000):\n",
        "  print(\"Safe to land\")\n",
        "elif(a>1000 and a<5000):\n",
        "  print(\"Bring down to 1000\")\n",
        "else:\n",
        "  print(\"Turn Around\")"
      ],
      "execution_count": 7,
      "outputs": [
        {
          "output_type": "stream",
          "text": [
            "1500\n",
            "Bring down to 1000\n"
          ],
          "name": "stdout"
        }
      ]
    },
    {
      "cell_type": "code",
      "metadata": {
        "id": "tHx9llXr7535",
        "colab_type": "code",
        "colab": {
          "base_uri": "https://localhost:8080/",
          "height": 51
        },
        "outputId": "4750535b-aeb0-4ff6-a156-0ed440581891"
      },
      "source": [
        "#if altitude is greater than 5000\n",
        "a=int(input())\n",
        "if(a<1000):\n",
        "  print(\"Safe to land\")\n",
        "elif(a>1000 and a<5000):\n",
        "  print(\"Bring down to 1000\")\n",
        "else:\n",
        "  print(\"Turn Around\")"
      ],
      "execution_count": 9,
      "outputs": [
        {
          "output_type": "stream",
          "text": [
            "6000\n",
            "Turn Around\n"
          ],
          "name": "stdout"
        }
      ]
    },
    {
      "cell_type": "markdown",
      "metadata": {
        "id": "HIfiKCXc-BA2",
        "colab_type": "text"
      },
      "source": [
        ""
      ]
    },
    {
      "cell_type": "markdown",
      "metadata": {
        "id": "rO_-cqTb-BGO",
        "colab_type": "text"
      },
      "source": [
        "# use for loop print all prime numbers between 1 - 200"
      ]
    },
    {
      "cell_type": "code",
      "metadata": {
        "id": "sOVHPGFX-LVe",
        "colab_type": "code",
        "colab": {
          "base_uri": "https://localhost:8080/",
          "height": 799
        },
        "outputId": "339578bd-f923-4105-c13f-bf25353f979d"
      },
      "source": [
        "for element in range(1,201):\n",
        "  if element>1:\n",
        "    for i in range(2,element):\n",
        "      if(element%i)==0:\n",
        "        break\n",
        "    else:\n",
        "      print(element)"
      ],
      "execution_count": 10,
      "outputs": [
        {
          "output_type": "stream",
          "text": [
            "2\n",
            "3\n",
            "5\n",
            "7\n",
            "11\n",
            "13\n",
            "17\n",
            "19\n",
            "23\n",
            "29\n",
            "31\n",
            "37\n",
            "41\n",
            "43\n",
            "47\n",
            "53\n",
            "59\n",
            "61\n",
            "67\n",
            "71\n",
            "73\n",
            "79\n",
            "83\n",
            "89\n",
            "97\n",
            "101\n",
            "103\n",
            "107\n",
            "109\n",
            "113\n",
            "127\n",
            "131\n",
            "137\n",
            "139\n",
            "149\n",
            "151\n",
            "157\n",
            "163\n",
            "167\n",
            "173\n",
            "179\n",
            "181\n",
            "191\n",
            "193\n",
            "197\n",
            "199\n"
          ],
          "name": "stdout"
        }
      ]
    }
  ]
}